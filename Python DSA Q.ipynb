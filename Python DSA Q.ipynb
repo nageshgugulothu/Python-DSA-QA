{
 "cells": [
  {
   "cell_type": "markdown",
   "id": "dc09cee6-2851-4de7-9583-57bcfc54bb3c",
   "metadata": {},
   "source": [
    "1.WAP to accept two numbers from the user and display their sum"
   ]
  },
  {
   "cell_type": "code",
   "execution_count": 1,
   "id": "fc71c9e6-d64f-4da4-b41a-aa977f3a022b",
   "metadata": {},
   "outputs": [
    {
     "name": "stdin",
     "output_type": "stream",
     "text": [
      "Enter a 1st number 5\n",
      "Enter a 2st number 2\n"
     ]
    },
    {
     "name": "stdout",
     "output_type": "stream",
     "text": [
      "7\n"
     ]
    }
   ],
   "source": [
    "a = int(input(\"Enter a 1st number\"))\n",
    "b = int(input(\"Enter a 2st number\"))\n",
    "print(a+b)"
   ]
  },
  {
   "cell_type": "markdown",
   "id": "07ed9173-a1a1-4a4a-98a9-69ee8f4f5a66",
   "metadata": {},
   "source": [
    "2. WAP to accept radius of a Circle from the user and calculate area and circumference¶"
   ]
  },
  {
   "cell_type": "code",
   "execution_count": 2,
   "id": "1494957d-a0ff-40df-823b-2dc3dff1b303",
   "metadata": {},
   "outputs": [
    {
     "name": "stdin",
     "output_type": "stream",
     "text": [
      "Enter the radius of the circle 4\n"
     ]
    },
    {
     "name": "stdout",
     "output_type": "stream",
     "text": [
      "Area is 50.26548245743669\n",
      "Circumference is 25.132741228718345\n"
     ]
    }
   ],
   "source": [
    "import math\n",
    "radius = float(input(\"Enter the radius of the circle\") )\n",
    "print(\"Area is\", math.pi*radius*radius)\n",
    "print(\"Circumference is\", 2*math.pi*radius)"
   ]
  },
  {
   "cell_type": "markdown",
   "id": "10e5d761-24fa-468d-8777-45a1ab33771e",
   "metadata": {},
   "source": [
    "3. WAP to accept roll number , grade and percentage as input from the user and display it back¶"
   ]
  },
  {
   "cell_type": "code",
   "execution_count": 5,
   "id": "ebce8c45-6789-423c-8742-c9e537b8596a",
   "metadata": {},
   "outputs": [
    {
     "name": "stdin",
     "output_type": "stream",
     "text": [
      "Enter the roll number :  12025645556556\n",
      "Enter the grade :  6.75\n",
      "Enter the percentage:  83.46\n"
     ]
    },
    {
     "name": "stdout",
     "output_type": "stream",
     "text": [
      "Roll number is : 12025645556556\n",
      "Grade is : 6.75\n",
      "percentage is : 83.46\n"
     ]
    }
   ],
   "source": [
    "roll_number = int(input(\"Enter the roll number : \"))\n",
    "grade = float(input(\"Enter the grade : \"))\n",
    "percentage = float(input(\"Enter the percentage: \"))\n",
    "\n",
    "print(\"Roll number is :\", roll_number)\n",
    "print(\"Grade is :\",grade)\n",
    "print(\"percentage is :\", percentage)"
   ]
  },
  {
   "cell_type": "markdown",
   "id": "d0f5ea1d-011f-43c7-aa8a-722f14f1b194",
   "metadata": {},
   "source": [
    "4. Write a program that asks the user to enter his/her name and age. Print out a message , displaying the user’s name along with the year in which they will turn 100 years old."
   ]
  },
  {
   "cell_type": "code",
   "execution_count": 8,
   "id": "3514dda8-a100-46e0-a7b3-42960de9a3d0",
   "metadata": {},
   "outputs": [
    {
     "name": "stdin",
     "output_type": "stream",
     "text": [
      "Enter your name :  Nagehswar\n",
      "Enter your age :  31\n"
     ]
    },
    {
     "name": "stdout",
     "output_type": "stream",
     "text": [
      "your name is Nagehswar, and you are going to 100 years old in 2091\n"
     ]
    }
   ],
   "source": [
    "name = input(\"Enter your name : \")\n",
    "age = int(input(\"Enter your age : \"))\n",
    "\n",
    "age_remains = 100-age\n",
    "year = 2022+age_remains\n",
    "print(f\"your name is {name}, and you are going to 100 years old in {year}\")"
   ]
  },
  {
   "cell_type": "markdown",
   "id": "362ae1ac-935c-4f10-9310-18e6a3adcab5",
   "metadata": {},
   "source": [
    "5. Write a program that asks the user to input 2 integers and adds them . Accept both the numbers in a single line only"
   ]
  },
  {
   "cell_type": "code",
   "execution_count": 29,
   "id": "bd7c0e43-fb33-47ac-8cfb-c33194f9f67a",
   "metadata": {},
   "outputs": [
    {
     "name": "stdin",
     "output_type": "stream",
     "text": [
      "Enter two numbers 2 6\n"
     ]
    },
    {
     "name": "stdout",
     "output_type": "stream",
     "text": [
      "8\n"
     ]
    }
   ],
   "source": [
    "a,b = input(\"Enter two numbers\").split()\n",
    "print(int(a)+int(b))\n"
   ]
  },
  {
   "cell_type": "code",
   "execution_count": 1,
   "id": "0ae77832-c069-4bb1-8137-79679850abcc",
   "metadata": {},
   "outputs": [
    {
     "name": "stdin",
     "output_type": "stream",
     "text": [
      " 24 3\n"
     ]
    },
    {
     "name": "stdout",
     "output_type": "stream",
     "text": [
      "27\n"
     ]
    }
   ],
   "source": [
    "# 2nd method\n",
    "a, b = [int(i) for i in input().split()]\n",
    "print(a+b)"
   ]
  },
  {
   "cell_type": "code",
   "execution_count": 4,
   "id": "8a84963a-c7f3-434c-8935-fab21cf0105c",
   "metadata": {},
   "outputs": [
    {
     "name": "stdin",
     "output_type": "stream",
     "text": [
      "enter numbers: 2 4\n"
     ]
    },
    {
     "name": "stdout",
     "output_type": "stream",
     "text": [
      "6\n"
     ]
    }
   ],
   "source": [
    "# 3rd method\n",
    "a=list(map(int,input(\"enter numbers:\").split()))\n",
    "print(a[0]+a[1])"
   ]
  },
  {
   "cell_type": "markdown",
   "id": "b3d82907-3e3d-42d7-8f6e-0d3a2a02b028",
   "metadata": {},
   "source": [
    "6. Write a Python program which accepts the user's first and last name and print them in reverse order with a space between them"
   ]
  },
  {
   "cell_type": "code",
   "execution_count": 1,
   "id": "cbdc23b5-d6db-425e-9b87-03ecaa058eba",
   "metadata": {},
   "outputs": [
    {
     "name": "stdin",
     "output_type": "stream",
     "text": [
      "Enter user first name:  nagesh\n",
      "Enter user second name:  naik\n"
     ]
    },
    {
     "name": "stdout",
     "output_type": "stream",
     "text": [
      "hsegan kian\n"
     ]
    }
   ],
   "source": [
    "firstname = input(\"Enter user first name: \")\n",
    "lastname = input(\"Enter user second name: \")\n",
    "full_name = lastname +' '+ firstname\n",
    "print(full_name[::-1])\n"
   ]
  },
  {
   "cell_type": "code",
   "execution_count": 5,
   "id": "2bdd7fb6-656f-4d2f-9f0c-45e188f9f86c",
   "metadata": {},
   "outputs": [
    {
     "name": "stdin",
     "output_type": "stream",
     "text": [
      " nagesh\n",
      " Naik\n"
     ]
    },
    {
     "name": "stdout",
     "output_type": "stream",
     "text": [
      "hsegan   kiaN\n"
     ]
    }
   ],
   "source": [
    "fname = input()\n",
    "lname = input()\n",
    "print(fname[::-1],' ',lname[::-1])"
   ]
  },
  {
   "cell_type": "code",
   "execution_count": 7,
   "id": "5edfd513-4e5e-4834-b942-810574f9c88f",
   "metadata": {},
   "outputs": [
    {
     "name": "stdin",
     "output_type": "stream",
     "text": [
      "enter your full name: Nageshwarrao Naik\n"
     ]
    },
    {
     "name": "stdout",
     "output_type": "stream",
     "text": [
      "kiaN oarrawhsegaN\n"
     ]
    }
   ],
   "source": [
    "name=input(\"enter your full name:\")\n",
    "print(name[::-1])"
   ]
  },
  {
   "cell_type": "code",
   "execution_count": 9,
   "id": "67639e3e-5b46-4c33-ba30-4e925d0bf926",
   "metadata": {},
   "outputs": [
    {
     "name": "stdin",
     "output_type": "stream",
     "text": [
      "enter your first name: Nagehs\n",
      "enter your last name: Naik\n"
     ]
    },
    {
     "name": "stdout",
     "output_type": "stream",
     "text": [
      "kiaN shegaN\n"
     ]
    }
   ],
   "source": [
    "f=input(\"enter your first name:\")\n",
    "l=input(\"enter your last name:\")\n",
    "rev1=f[::-1]\n",
    "rev2=l[::-1]\n",
    "print(f\"{rev2} {rev1}\")    #with the help of f-strings"
   ]
  },
  {
   "cell_type": "markdown",
   "id": "1cc2eca1-8304-458a-851d-018d89c14e75",
   "metadata": {},
   "source": [
    " 7. WAP to accept an integer from the user and check whether it is an even or odd¶"
   ]
  },
  {
   "cell_type": "code",
   "execution_count": 5,
   "id": "63ee651f-18c7-4619-bbea-a9824c0e1afb",
   "metadata": {},
   "outputs": [
    {
     "name": "stdin",
     "output_type": "stream",
     "text": [
      "Enter the number:  3\n"
     ]
    },
    {
     "name": "stdout",
     "output_type": "stream",
     "text": [
      "3 is odd number\n"
     ]
    }
   ],
   "source": [
    "num = int(input(\"Enter the number: \"))\n",
    "if num%2 == 0:\n",
    "    print(num,\"is even number\")\n",
    "else:\n",
    "    print(num,\"is odd number\")"
   ]
  },
  {
   "cell_type": "markdown",
   "id": "283fce5c-9eaa-4460-9be7-072836814422",
   "metadata": {},
   "source": [
    " 8. WAP to accept a character from the user and check whether it is a capital letter or small letter. Assume user will input only alphabets"
   ]
  },
  {
   "cell_type": "code",
   "execution_count": 6,
   "id": "b257831a-1b1b-4019-aedc-234039a87791",
   "metadata": {},
   "outputs": [
    {
     "name": "stdin",
     "output_type": "stream",
     "text": [
      "Enter a character B\n"
     ]
    },
    {
     "name": "stdout",
     "output_type": "stream",
     "text": [
      "given character is capital letter\n"
     ]
    }
   ],
   "source": [
    "n = input(\"Enter a character\")\n",
    "if n.upper()==n:\n",
    "    print(\"given character is capital letter\")\n",
    "else:\n",
    "    print(\"given character is small letter\")"
   ]
  },
  {
   "cell_type": "code",
   "execution_count": 10,
   "id": "be59f2e7-c734-4f4b-8585-08e02ce54c9b",
   "metadata": {},
   "outputs": [
    {
     "name": "stdin",
     "output_type": "stream",
     "text": [
      "enter a character: G\n"
     ]
    },
    {
     "name": "stdout",
     "output_type": "stream",
     "text": [
      "upper\n"
     ]
    }
   ],
   "source": [
    "#second method\n",
    "n=input(\"enter a character:\")\n",
    "if \"A\"<=n<=\"Z\":\n",
    "    print(\"upper\")\n",
    "else:\n",
    "    print(\"lower\")"
   ]
  },
  {
   "cell_type": "code",
   "execution_count": 11,
   "id": "18ae6298-d6de-4271-9dbb-4b753ef5f526",
   "metadata": {},
   "outputs": [
    {
     "name": "stdin",
     "output_type": "stream",
     "text": [
      "enter a character: h\n"
     ]
    },
    {
     "name": "stdout",
     "output_type": "stream",
     "text": [
      "lower\n"
     ]
    }
   ],
   "source": [
    "#third method\n",
    "n=input('enter a character:')\n",
    "if n.isupper()==True:\n",
    "    print(\"upper\")\n",
    "else:\n",
    "    print(\"lower\")"
   ]
  },
  {
   "cell_type": "markdown",
   "id": "ed012d9f-3f37-4141-b299-cca70cf39a7f",
   "metadata": {},
   "source": [
    " 9. WAP to accept a character from the user and check whether it is a capital letter or small letter or a digit or some special symbol"
   ]
  },
  {
   "cell_type": "code",
   "execution_count": 11,
   "id": "b743e34a-7b91-4b93-a97a-afa0db3ae245",
   "metadata": {},
   "outputs": [
    {
     "name": "stdin",
     "output_type": "stream",
     "text": [
      "Enter a character :  %\n"
     ]
    },
    {
     "name": "stdout",
     "output_type": "stream",
     "text": [
      "Special symbol\n"
     ]
    }
   ],
   "source": [
    "ch = input(\"Enter a character : \")\n",
    "if \"A\"<= ch <= \"Z\":\n",
    "    print(\"Enter character is Capital letter\", ch)\n",
    "elif \"a\" <= ch <= \"z\":\n",
    "    print(\"Enter character is Small letter\", ch)\n",
    "elif \"0\" <= ch <= \"9\":\n",
    "    print(\"Enter character is digit\", ch)\n",
    "else:\n",
    "    print('Special symbol')"
   ]
  },
  {
   "cell_type": "code",
   "execution_count": 12,
   "id": "f4762c99-5e8f-4270-a0b1-cc72084a1d0d",
   "metadata": {},
   "outputs": [
    {
     "name": "stdin",
     "output_type": "stream",
     "text": [
      "enter character: G\n"
     ]
    },
    {
     "name": "stdout",
     "output_type": "stream",
     "text": [
      "upper\n"
     ]
    }
   ],
   "source": [
    "#second method\n",
    "n=input(\"enter character:\")\n",
    "if n.isupper()==True:\n",
    "    print(\"upper\")\n",
    "elif n.islower()==True:\n",
    "    print(\"lower\")\n",
    "elif n.isdigit()==True:\n",
    "    print(\"digit\")\n",
    "else:\n",
    "    print(\"special symbol\")"
   ]
  },
  {
   "cell_type": "markdown",
   "id": "650e030b-97a4-43d2-bc8f-87ebe004de08",
   "metadata": {},
   "source": [
    "10.WAP to accept 3 integers from the user and without using any logical operator and cascading of relational operators , find out the greatest number amongst them"
   ]
  },
  {
   "cell_type": "code",
   "execution_count": 14,
   "id": "2646f139-76b9-4ce2-9fae-79ccac67f084",
   "metadata": {},
   "outputs": [
    {
     "name": "stdin",
     "output_type": "stream",
     "text": [
      "Enter first number:  34\n",
      "Enter second number:  78\n",
      "Enter third number:  12\n"
     ]
    },
    {
     "name": "stdout",
     "output_type": "stream",
     "text": [
      "The largest number is: 78\n"
     ]
    }
   ],
   "source": [
    "a = int(input(\"Enter first number: \"))\n",
    "b = int(input(\"Enter second number: \"))\n",
    "c = int(input(\"Enter third number: \"))\n",
    "\n",
    "if a>=b and a>=c:\n",
    "    largest=a\n",
    "    \n",
    "elif b>=a and b>=c:\n",
    "    largest=b\n",
    "    \n",
    "else:\n",
    "    largest=c\n",
    "    \n",
    "print(\"The largest number is:\", largest)   "
   ]
  },
  {
   "cell_type": "markdown",
   "id": "4719c428-3dbc-4c66-858a-76ff8ce1fa8b",
   "metadata": {},
   "source": [
    "11. WAP to accept a year from the user and check whether it is a leap year or not.An year is a leap year if: It is exactly divisible by 4 and at the same time not divisible by 100 OR It is divisible by 400"
   ]
  },
  {
   "cell_type": "code",
   "execution_count": 16,
   "id": "1e870a37-f81a-4d96-89d5-1f75e6c46ac6",
   "metadata": {},
   "outputs": [
    {
     "name": "stdin",
     "output_type": "stream",
     "text": [
      "enter a year: 2023\n"
     ]
    },
    {
     "name": "stdout",
     "output_type": "stream",
     "text": [
      "non leap year\n"
     ]
    }
   ],
   "source": [
    "n=int(input(\"enter a year:\"))\n",
    "if (n%4==0 and n%100!=0) or n%400==0:\n",
    "    print(\"leap year\")\n",
    "else:\n",
    "    print(\"non leap year\")"
   ]
  },
  {
   "cell_type": "markdown",
   "id": "a70b84b4-5000-49e8-970c-118b3dd863a0",
   "metadata": {},
   "source": [
    "12. \n",
    "developing a number guessing game At first , the program will generate a random integer secretly.\n",
    "\n",
    "Now it will ask the user to guess that number .\n",
    "\n",
    "If the user guessed it correctly then the program prints “Congratulations! You guessed it right” .\n",
    "\n",
    "But if the number guessed by the user is larger than the secret number then program should print “Number too large” and , if the number guessed by the user is smaller than the secret number then the program should print “Number too small”\n",
    "\n",
    "This should continue until the user guesses the number correctly or quits .\n",
    "\n",
    "If the user wants to quit in between he will have to type 0 or negative number"
   ]
  },
  {
   "cell_type": "code",
   "execution_count": 20,
   "id": "067b1821-ec9f-4c65-aef1-3999d7c4b5ff",
   "metadata": {},
   "outputs": [
    {
     "name": "stdin",
     "output_type": "stream",
     "text": [
      "guess that number: 4\n"
     ]
    },
    {
     "name": "stdout",
     "output_type": "stream",
     "text": [
      "number too small\n"
     ]
    },
    {
     "name": "stdin",
     "output_type": "stream",
     "text": [
      "guess that number: 10\n"
     ]
    },
    {
     "name": "stdout",
     "output_type": "stream",
     "text": [
      "number too large\n"
     ]
    },
    {
     "name": "stdin",
     "output_type": "stream",
     "text": [
      "guess that number: 8\n"
     ]
    },
    {
     "name": "stdout",
     "output_type": "stream",
     "text": [
      "number too large\n"
     ]
    },
    {
     "name": "stdin",
     "output_type": "stream",
     "text": [
      "guess that number: 6\n"
     ]
    },
    {
     "name": "stdout",
     "output_type": "stream",
     "text": [
      "number too small\n"
     ]
    },
    {
     "name": "stdin",
     "output_type": "stream",
     "text": [
      "guess that number: 2\n"
     ]
    },
    {
     "name": "stdout",
     "output_type": "stream",
     "text": [
      "number too small\n"
     ]
    },
    {
     "name": "stdin",
     "output_type": "stream",
     "text": [
      "guess that number: 7\n"
     ]
    },
    {
     "name": "stdout",
     "output_type": "stream",
     "text": [
      "Congratulations! You guessed it right\n"
     ]
    }
   ],
   "source": [
    "import random\n",
    "a=random.randint(1,10)\n",
    "while(1):\n",
    "    n=int(input(\"guess that number:\"))\n",
    "    if n==a:\n",
    "        print(\"Congratulations! You guessed it right\")\n",
    "        break\n",
    "    elif n>a:\n",
    "        print('number too large')\n",
    "    elif 0<n<a:\n",
    "        print('number too small')\n",
    "    else:\n",
    "        break"
   ]
  },
  {
   "cell_type": "code",
   "execution_count": null,
   "id": "5293e38f-78c3-41ab-80d8-723825a949a1",
   "metadata": {},
   "outputs": [],
   "source": [
    "###### import random\n",
    "n = random.randint(1,10)\n",
    "num_guess = int(input(\"Enter any number: \"))\n",
    "\n",
    "while n!= num_guess:\n",
    "    if num_guess > n:\n",
    "        print(\"The Number too large\")\n",
    "        num_guess = int(input(\"Enter the number again: \"))\n",
    "        \n",
    "    elif num_guess < n:\n",
    "        print(\"The Number too small\")\n",
    "        num_guess = int(input(\"Enter the number again: \"))\n",
    "        \n",
    "    elif num_guess == 0:\n",
    "        num_guess = int(input(\"Enter the number 0 to be quit: \"))\n",
    "        print(\"it will be quit\")\n",
    "        break\n",
    "    else:\n",
    "        print(\"Congratulations! You guessed it right\")"
   ]
  },
  {
   "cell_type": "markdown",
   "id": "8a979134-cc72-4a81-b916-3d568c7e99c6",
   "metadata": {},
   "source": [
    "13.Write a program to accept a string from the user and display it vertically but don’t display the vowels in it"
   ]
  },
  {
   "cell_type": "code",
   "execution_count": 28,
   "id": "f09b5fc5-4540-423a-892c-0f24261e8b15",
   "metadata": {},
   "outputs": [
    {
     "name": "stdin",
     "output_type": "stream",
     "text": [
      "enter a string: Nagesh\n"
     ]
    },
    {
     "name": "stdout",
     "output_type": "stream",
     "text": [
      "N\n",
      "g\n",
      "s\n",
      "h\n"
     ]
    }
   ],
   "source": [
    "#first method\n",
    "string=input(\"enter a string:\")\n",
    "for i in string:\n",
    "    if i not in 'aeiouAEIOU':\n",
    "        print(i)"
   ]
  },
  {
   "cell_type": "code",
   "execution_count": 30,
   "id": "46f6bfe0-ce5a-41f8-ba25-5f326b6a6f03",
   "metadata": {},
   "outputs": [
    {
     "name": "stdin",
     "output_type": "stream",
     "text": [
      "Write something: Nagehs\n"
     ]
    },
    {
     "name": "stdout",
     "output_type": "stream",
     "text": [
      "N\n",
      "g\n",
      "h\n",
      "s\n"
     ]
    }
   ],
   "source": [
    "# 2nd method\n",
    "name = input(\"Write something:\")\n",
    "i = 0\n",
    "while i<len(name):\n",
    "    if name[i] not in 'aeiouAEIOU':\n",
    "        print(name[i])\n",
    "    i=i+1"
   ]
  },
  {
   "cell_type": "code",
   "execution_count": 31,
   "id": "a4d0d2cb-1e5f-44b0-9677-8ebddc2c52dc",
   "metadata": {},
   "outputs": [
    {
     "name": "stdin",
     "output_type": "stream",
     "text": [
      "enter a string: nagesh\n"
     ]
    },
    {
     "name": "stdout",
     "output_type": "stream",
     "text": [
      "n\n",
      "g\n",
      "s\n",
      "h\n"
     ]
    }
   ],
   "source": [
    "#3rd method\n",
    "#to accept a string and should not display vowels\n",
    "n=input(\"enter a string:\")\n",
    "a=0\n",
    "while(a<len(n)):\n",
    "    if n[a]!='a' and n[a]!='e' and n[a]!='i' and n[a]!='o' and n[a]!='u':\n",
    "        print(n[a])\n",
    "    a+=1"
   ]
  },
  {
   "cell_type": "markdown",
   "id": "f32bae1f-d087-4985-8014-9ad84f068259",
   "metadata": {},
   "source": [
    "14.Write a program to continuously accept integers from the user until the user types 0 and as soon as 0 is entered display sum of all the nos entered before 0"
   ]
  },
  {
   "cell_type": "code",
   "execution_count": 32,
   "id": "4626612b-b65f-49df-a8d7-d64763f109c4",
   "metadata": {},
   "outputs": [
    {
     "name": "stdin",
     "output_type": "stream",
     "text": [
      "enter a number(press 0 to return sum): 25\n",
      "enter a number(press 0 to return sum): 43\n",
      "enter a number(press 0 to return sum): 12\n",
      "enter a number(press 0 to return sum): 0\n"
     ]
    },
    {
     "name": "stdout",
     "output_type": "stream",
     "text": [
      "sum is 80\n"
     ]
    }
   ],
   "source": [
    "sum=0\n",
    "while (1):\n",
    "    n=int(input(\"enter a number(press 0 to return sum):\"))\n",
    "    if n==0:\n",
    "        print('sum is',sum)\n",
    "        break\n",
    "    sum=sum+n"
   ]
  },
  {
   "cell_type": "markdown",
   "id": "1f3f5881-d31e-4274-9e2e-37ce5bb46151",
   "metadata": {},
   "source": [
    "15. Write a program using a for loop to accept a string from the user and display it vertically but don’t display the vowels in it.¶"
   ]
  },
  {
   "cell_type": "code",
   "execution_count": 33,
   "id": "68b1cda2-a5c9-44de-ba9e-45246b776633",
   "metadata": {},
   "outputs": [
    {
     "name": "stdin",
     "output_type": "stream",
     "text": [
      "Enter a characters: nagesh\n"
     ]
    },
    {
     "name": "stdout",
     "output_type": "stream",
     "text": [
      "n\n",
      "g\n",
      "s\n",
      "h\n"
     ]
    }
   ],
   "source": [
    "t = input('Enter a characters:')\n",
    "for char in t:\n",
    "    if char.lower() not in 'aeiouAEIOU':\n",
    "        print(char)"
   ]
  },
  {
   "cell_type": "markdown",
   "id": "08997e7d-2e9d-44d4-b56c-7d6b6d17bbed",
   "metadata": {},
   "source": [
    "16. Write a program to accept an integer from the user and display the sum of all the numbers from 1 to that number"
   ]
  },
  {
   "cell_type": "code",
   "execution_count": 35,
   "id": "c99b554c-179b-4220-81ca-27525d4dae9c",
   "metadata": {},
   "outputs": [
    {
     "name": "stdin",
     "output_type": "stream",
     "text": [
      "enter a number: 6\n"
     ]
    },
    {
     "name": "stdout",
     "output_type": "stream",
     "text": [
      "sum is 21.0\n"
     ]
    }
   ],
   "source": [
    "n=int(input(\"enter a number:\"))\n",
    "print('sum is',(n*(n+1))/2)"
   ]
  },
  {
   "cell_type": "code",
   "execution_count": 36,
   "id": "192dbf61-8f9c-4808-8fbd-756defc4318b",
   "metadata": {},
   "outputs": [
    {
     "name": "stdin",
     "output_type": "stream",
     "text": [
      "enter a number: 6\n"
     ]
    },
    {
     "name": "stdout",
     "output_type": "stream",
     "text": [
      "sum is 21\n"
     ]
    }
   ],
   "source": [
    "#another approach\n",
    "n=int(input(\"enter a number:\"))\n",
    "sum=0\n",
    "for i in range(1,n+1):\n",
    "    sum=sum+i\n",
    "print('sum is',sum)\n"
   ]
  },
  {
   "cell_type": "markdown",
   "id": "72de3500-1c15-47d9-84dc-9bb13623b738",
   "metadata": {},
   "source": [
    "17.Write a program to accept an integer from the user and calculate its factorial"
   ]
  },
  {
   "cell_type": "code",
   "execution_count": 40,
   "id": "d3a8e998-df6d-48a1-ac0a-c9cc6b3c1529",
   "metadata": {},
   "outputs": [
    {
     "name": "stdin",
     "output_type": "stream",
     "text": [
      "enter a number: 6\n"
     ]
    },
    {
     "name": "stdout",
     "output_type": "stream",
     "text": [
      "factorial is 720\n"
     ]
    }
   ],
   "source": [
    "n=int(input(\"enter a number:\"))\n",
    "fact=1\n",
    "for i in range(1,n+1):\n",
    "    fact=fact*i\n",
    "if n==0 or n==1:\n",
    "    print('factorial is 1')\n",
    "print(\"factorial is\",fact)"
   ]
  },
  {
   "cell_type": "markdown",
   "id": "131812a0-e92b-44c7-bb76-e8c4567c6362",
   "metadata": {},
   "source": [
    "18. Write a program to print the following pattern \n",
    "* * *\n",
    "* * *\n",
    "* * *\n",
    "* * *"
   ]
  },
  {
   "cell_type": "code",
   "execution_count": 44,
   "id": "ffef0070-bf7e-46de-b08c-f62db8c3fb6b",
   "metadata": {},
   "outputs": [
    {
     "name": "stdin",
     "output_type": "stream",
     "text": [
      "enter number of rows: 4\n"
     ]
    },
    {
     "name": "stdout",
     "output_type": "stream",
     "text": [
      "* * * \n",
      "* * * \n",
      "* * * \n",
      "* * * \n"
     ]
    }
   ],
   "source": [
    "n=int(input(\"enter number of rows:\"))\n",
    "for i in range(1,n+1):\n",
    "    print(\"* \"*3)"
   ]
  },
  {
   "cell_type": "markdown",
   "id": "e586fed3-96d6-4960-a93f-b4f4aa51de7a",
   "metadata": {},
   "source": [
    "19. Write a program to print the following pattern\n",
    "*\n",
    "* *\n",
    "* * *\n",
    "* * * *"
   ]
  },
  {
   "cell_type": "code",
   "execution_count": 45,
   "id": "a5265fd6-f641-4955-a7d0-a33b289d972c",
   "metadata": {},
   "outputs": [
    {
     "name": "stdin",
     "output_type": "stream",
     "text": [
      "enter number of rows you want: 5\n"
     ]
    },
    {
     "name": "stdout",
     "output_type": "stream",
     "text": [
      "* \n",
      "* * \n",
      "* * * \n",
      "* * * * \n",
      "* * * * * \n"
     ]
    }
   ],
   "source": [
    "n=int(input(\"enter number of rows you want:\"))\n",
    "for i in range(1,n+1):\n",
    "    print(\"* \"*i)"
   ]
  },
  {
   "cell_type": "markdown",
   "id": "e48161c4-1297-45ac-b89f-7aecefed175f",
   "metadata": {},
   "source": [
    "20. Write a program to print the following pattern\n",
    "* * * *\n",
    "* * *\n",
    "* *\n",
    "*"
   ]
  },
  {
   "cell_type": "code",
   "execution_count": 47,
   "id": "509cf85f-6996-458e-b618-99de83adc519",
   "metadata": {},
   "outputs": [
    {
     "name": "stdin",
     "output_type": "stream",
     "text": [
      "enter number of rows you want: 5\n"
     ]
    },
    {
     "name": "stdout",
     "output_type": "stream",
     "text": [
      "* * * * * \n",
      "* * * * \n",
      "* * * \n",
      "* * \n",
      "* \n"
     ]
    }
   ],
   "source": [
    "n=int(input(\"enter number of rows you want:\"))\n",
    "for i in range(n,0,-1):\n",
    "    print('* '*i)"
   ]
  },
  {
   "cell_type": "markdown",
   "id": "c202418a-bcd6-49c7-ad11-1c6f974c4c0c",
   "metadata": {},
   "source": [
    "21. Write a program to accept an integer from the user and display all the numbers from 1 to that number. Repeat the process until the user enters 0."
   ]
  },
  {
   "cell_type": "code",
   "execution_count": 48,
   "id": "fb95a3df-6b23-48a6-a1b8-9fceca72e35f",
   "metadata": {},
   "outputs": [
    {
     "name": "stdin",
     "output_type": "stream",
     "text": [
      "enter a number(enter 0 to exit): 6\n"
     ]
    },
    {
     "name": "stdout",
     "output_type": "stream",
     "text": [
      "1\n",
      "2\n",
      "3\n",
      "4\n",
      "5\n",
      "6\n"
     ]
    },
    {
     "name": "stdin",
     "output_type": "stream",
     "text": [
      "enter a number(enter 0 to exit): 3\n"
     ]
    },
    {
     "name": "stdout",
     "output_type": "stream",
     "text": [
      "1\n",
      "2\n",
      "3\n"
     ]
    },
    {
     "name": "stdin",
     "output_type": "stream",
     "text": [
      "enter a number(enter 0 to exit): 0\n"
     ]
    }
   ],
   "source": [
    "while(1):\n",
    "    n=int(input(\"enter a number(enter 0 to exit):\"))\n",
    "    for i in range(1,n+1):\n",
    "        print(i)\n",
    "    if n==0:\n",
    "        break"
   ]
  },
  {
   "cell_type": "code",
   "execution_count": null,
   "id": "e7a41065-eb0a-40f7-a68a-c7ba70ca85c7",
   "metadata": {},
   "outputs": [],
   "source": []
  }
 ],
 "metadata": {
  "kernelspec": {
   "display_name": "Python 3 (ipykernel)",
   "language": "python",
   "name": "python3"
  },
  "language_info": {
   "codemirror_mode": {
    "name": "ipython",
    "version": 3
   },
   "file_extension": ".py",
   "mimetype": "text/x-python",
   "name": "python",
   "nbconvert_exporter": "python",
   "pygments_lexer": "ipython3",
   "version": "3.10.6"
  }
 },
 "nbformat": 4,
 "nbformat_minor": 5
}
